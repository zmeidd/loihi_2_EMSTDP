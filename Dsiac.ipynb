{
 "cells": [
  {
   "cell_type": "markdown",
   "id": "03a4693d-6a75-4ba7-ae0d-57e91b69b534",
   "metadata": {},
   "source": [
    "### tale preprocess images as the input "
   ]
  },
  {
   "cell_type": "markdown",
   "id": "2cd96482-6e6c-4394-bcf5-9ab86d0e6c13",
   "metadata": {},
   "source": [
    "*image file locations*"
   ]
  },
  {
   "cell_type": "code",
   "execution_count": 3,
   "id": "da298e8e-78f4-4074-bd49-32a6af8d36db",
   "metadata": {},
   "outputs": [],
   "source": [
    "import os \n",
    "file_path = os.getcwd()+ \"/test_imgs\"\n",
    "files = os.listdir(file_path)\n",
    "class_name = {'2S3':0,  'MP2':1, 'DM2':2, 'R70':3, 'TLB':4, 'kup':5, 'ort':6,  'T72':7, '3-4':8}"
   ]
  },
  {
   "cell_type": "markdown",
   "id": "a00e41d0-f3ff-4db9-824d-b9cead735a02",
   "metadata": {},
   "source": [
    "### You can also set the input as numpy.ndarray as the input "
   ]
  },
  {
   "cell_type": "code",
   "execution_count": 4,
   "id": "fd8f7b7d-9511-44e8-992e-20cee3f98be6",
   "metadata": {},
   "outputs": [],
   "source": [
    "labels = []\n",
    "for i in range(len(files)):\n",
    "    labels.append(int(class_name[files[i][-7:-4]]))"
   ]
  },
  {
   "cell_type": "code",
   "execution_count": null,
   "id": "7aa2c663-a505-4e1e-a80e-4351fbec9944",
   "metadata": {},
   "outputs": [
    {
     "name": "stdout",
     "output_type": "stream",
     "text": [
      "Bias input\n",
      "Partitioning converged after iteration=1\n",
      "Per core utilization:\n",
      "-------------------------------------------------------------------------\n",
      "| AxonIn |NeuronGr| Neurons|Synapses| AxonMap| AxonMem|  Total |  Cores |\n",
      "|-----------------------------------------------------------------------|\n",
      "|   0.12%|  12.50%|   0.24%|   0.38%|   0.06%|   0.00%|   0.51%|       1|\n",
      "|   0.62%|  12.50%|   0.24%|   2.50%|   0.06%|   0.00%|   2.60%|       1|\n",
      "|   1.25%|  12.50%|   2.44%|  40.00%|   0.62%|   0.00%|  34.01%|       1|\n",
      "|   0.00%|  12.50%|   0.24%|   0.00%|   0.06%|   0.00%|   0.10%|       1|\n",
      "|   0.00%|  12.50%|   4.88%|   0.00%|   1.25%|   0.00%|   2.00%|       1|\n",
      "|-----------------------------------------------------------------------|\n",
      "| Total                                                        |       5|\n",
      "-------------------------------------------------------------------------\n"
     ]
    }
   ],
   "source": [
    "!SLURM=1 LOIHI_GEN=N3B3 PARTITION=oheogulch_2h\n",
    "from emstdp import loihi2_net\n",
    "import numpy as np\n",
    "from utils import preprocess_raw_imgs\n",
    "dim =[200,100,10]\n",
    "w_h = np.load(\"./weights/w_h.npy\")\n",
    "w_o = np.load(\"./weights/w_o.npy\")\n",
    "net = loihi2_net(dim = dim,w_h = w_h, w_o = w_o, time_steps = 32)\n",
    "\n",
    "\n",
    "data = preprocess_raw_imgs(files, file_path)\n",
    "net.test_loihi([data,labels])"
   ]
  },
  {
   "cell_type": "markdown",
   "id": "d4957a32-4fd2-4988-9272-6208c4ac2ba5",
   "metadata": {},
   "source": [
    "## If the input images is numpy arrrays\n",
    "<span style=\"font-size:1.5em;\">simple construct the dataset as [data, labels]</span> \\\n",
    "<span style=\"font-size:1.5em;\"> where data is a numpy array with size (N,32,32,1), and label with size [N,]</span>\n"
   ]
  },
  {
   "cell_type": "code",
   "execution_count": null,
   "id": "95cf3ec7-e0b1-40c4-b4e2-1ab6541c0ff3",
   "metadata": {},
   "outputs": [],
   "source": [
    "from emstdp import loihi2_net\n",
    "import numpy as np\n",
    "from utils import preprocess_raw_imgs\n",
    "dim =[200,100,10]\n",
    "w_h = np.load(\"./weights/w_h.npy\")\n",
    "w_o = np.load(\"./weights/w_o.npy\")\n",
    "net = loihi2_net(dim = dim,w_h = w_h, w_o = w_o, time_steps = 32)\n",
    "data_set = [data,labels]\n",
    "net.test_loihi([data,labels])\n",
    "\n",
    "\n",
    "\n",
    "\n"
   ]
  }
 ],
 "metadata": {
  "kernelspec": {
   "display_name": "Python 3 (ipykernel)",
   "language": "python",
   "name": "python3"
  },
  "language_info": {
   "codemirror_mode": {
    "name": "ipython",
    "version": 3
   },
   "file_extension": ".py",
   "mimetype": "text/x-python",
   "name": "python",
   "nbconvert_exporter": "python",
   "pygments_lexer": "ipython3",
   "version": "3.8.10"
  }
 },
 "nbformat": 4,
 "nbformat_minor": 5
}
