{
 "cells": [
  {
   "cell_type": "markdown",
   "id": "dca06902-397b-474a-9695-05fda1c6d4b1",
   "metadata": {},
   "source": [
    "### for OOD detection, you only need 1 parameter, the data you want to detect\n",
    "The data format should be (N,32,32,1)"
   ]
  },
  {
   "cell_type": "code",
   "execution_count": 27,
   "id": "255b87be-3e15-4e24-98da-37e8aff00593",
   "metadata": {},
   "outputs": [],
   "source": [
    "import numpy as np\n",
    "from ood import detector\n",
    "from utils import pre_process_data\n",
    "data = np.load(\"./files/min_data.npy\")[:]\n",
    "label = np.load(\"./files/min_label.npy\")[:]"
   ]
  },
  {
   "cell_type": "markdown",
   "id": "ee01ce98-1397-4d17-b1a5-68051144c06c",
   "metadata": {},
   "source": [
    "#### Preprocess the data"
   ]
  },
  {
   "cell_type": "code",
   "execution_count": 28,
   "id": "a6fc9590-3167-45a4-b4cd-6be8d9c4d969",
   "metadata": {},
   "outputs": [],
   "source": [
    "data = pre_process_data(data)"
   ]
  },
  {
   "cell_type": "code",
   "execution_count": 29,
   "id": "18f4bcb9-eef7-4c01-abf8-f75782ae28f3",
   "metadata": {},
   "outputs": [
    {
     "name": "stdout",
     "output_type": "stream",
     "text": [
      "Start OOD Testing\n"
     ]
    }
   ],
   "source": [
    "result = detector(data)"
   ]
  },
  {
   "cell_type": "code",
   "execution_count": 30,
   "id": "16f43533-f7d6-4254-9ec6-849eced01ba8",
   "metadata": {},
   "outputs": [
    {
     "name": "stdout",
     "output_type": "stream",
     "text": [
      "[8 4 4 7 6 4 5 1 6 2 2 0 7 7 0 1 4 5 2 2 1 7 5 4 1 0 5 6 8 5 0 0 4 4 3 4 8\n",
      " 2 7 0 2 4 3 6 6 0 7 3 4 3 7 4 7 5 7 5 5 8 2 4 2 5 4 6 5 4 5 1 3 1 3 7 0 2\n",
      " 3 8 5 4 4 5 1 4 3 1 4 5 6 3 6 4 0 5 0 5 4 4 4 6 7 1 2 7 8 5 0 2 4 5 3 1 6\n",
      " 8 4 0 6 1 1 7 2 7 7 4 8 2 5 2 8 5 3 0 8 5 1 1 2 8 4 1 5 4 5 1 3 3 0 2 4 2\n",
      " 4 8 4 7 8 4 2 4 8 8 6 4 2 1 4 3 2 7 7 4 5 4 0 1 8 5 4 4 5 6 7 6 5 6 2 2 1\n",
      " 8 1 1 7 4 4 0 3 4 6 4 4 5 5 1]\n"
     ]
    }
   ],
   "source": [
    "print(label)"
   ]
  },
  {
   "cell_type": "markdown",
   "id": "286bb47c-67b9-4552-9107-c09eca05aa3b",
   "metadata": {},
   "source": [
    "##### In distribution: [0,1,6,7,8], Out of Distribution: [2,3,4,5]"
   ]
  },
  {
   "cell_type": "code",
   "execution_count": 31,
   "id": "6c5fa83f-83bc-4f86-be6f-ce9a855d3f88",
   "metadata": {},
   "outputs": [
    {
     "name": "stdout",
     "output_type": "stream",
     "text": [
      "[ True False False  True  True False False  True  True False  True  True\n",
      "  True  True  True  True False  True False False  True  True False False\n",
      "  True  True False  True  True False  True False False False False False\n",
      " False False  True  True False False  True  True  True  True False False\n",
      " False False  True False  True False  True  True  True  True False False\n",
      " False  True False  True False  True False  True False  True  True  True\n",
      " False False  True  True False False False False  True False False  True\n",
      " False False  True False False False  True  True False False False False\n",
      " False  True  True  True False  True  True  True False False False False\n",
      " False  True  True False False  True  True  True  True False  True  True\n",
      "  True False  True False  True  True False False False  True  True  True\n",
      "  True  True False False False  True False False False  True False False\n",
      " False False False False False  True False  True  True False False False\n",
      "  True  True  True False  True  True False False False  True  True False\n",
      " False False False  True  True False False False False  True  True  True\n",
      "  True  True False False  True  True  True  True  True False False  True\n",
      " False False  True False False  True False  True]\n"
     ]
    }
   ],
   "source": [
    "print(result)"
   ]
  },
  {
   "cell_type": "markdown",
   "id": "db0b339c-6bdb-4bca-9bd9-312cc31ef73a",
   "metadata": {},
   "source": [
    "#### Interpret the Result: if the result is False, then the data point is the outlier datapoint, otherwise in-distribution data point"
   ]
  },
  {
   "cell_type": "code",
   "execution_count": 32,
   "id": "96506dc2-0443-4d72-97aa-67bfea280e90",
   "metadata": {},
   "outputs": [
    {
     "name": "stdout",
     "output_type": "stream",
     "text": [
      "The Detection Success Rate is: 0.845\n"
     ]
    }
   ],
   "source": [
    "in_dis = [0,1,6,7,8]\n",
    "out_dis = [2,3,4,5]\n",
    "correct = 0\n",
    "for i in range(len(result)):\n",
    "    if (result[i] and (label[i] in in_dis)) or (not result[i] and (label[i] in out_dis) ):\n",
    "        correct+=1\n",
    "detection_ratio = correct/len(result)\n",
    "print(f\"The Detection Success Rate is: {detection_ratio}\")\n",
    "        "
   ]
  }
 ],
 "metadata": {
  "kernelspec": {
   "display_name": "Python 3 (ipykernel)",
   "language": "python",
   "name": "python3"
  },
  "language_info": {
   "codemirror_mode": {
    "name": "ipython",
    "version": 3
   },
   "file_extension": ".py",
   "mimetype": "text/x-python",
   "name": "python",
   "nbconvert_exporter": "python",
   "pygments_lexer": "ipython3",
   "version": "3.8.10"
  }
 },
 "nbformat": 4,
 "nbformat_minor": 5
}
