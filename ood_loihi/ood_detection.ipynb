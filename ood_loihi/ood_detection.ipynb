{
 "cells": [
  {
   "cell_type": "markdown",
   "id": "dca06902-397b-474a-9695-05fda1c6d4b1",
   "metadata": {},
   "source": [
    "### for OOD detection, you only need 1 parameter, the data you want to detect\n",
    "The data format should be (N,32,32,1)"
   ]
  },
  {
   "cell_type": "code",
   "execution_count": 1,
   "id": "255b87be-3e15-4e24-98da-37e8aff00593",
   "metadata": {},
   "outputs": [],
   "source": [
    "import numpy as np\n",
    "from ood import detector\n",
    "from utils import pre_process_data\n",
    "data = np.load(\"./files/min_data.npy\")[:20]\n",
    "label = np.load(\"./files/min_label.npy\")[:20]"
   ]
  },
  {
   "cell_type": "markdown",
   "id": "ee01ce98-1397-4d17-b1a5-68051144c06c",
   "metadata": {},
   "source": [
    "#### Preprocess the data"
   ]
  },
  {
   "cell_type": "code",
   "execution_count": 2,
   "id": "a6fc9590-3167-45a4-b4cd-6be8d9c4d969",
   "metadata": {},
   "outputs": [],
   "source": [
    "data = pre_process_data(data)"
   ]
  },
  {
   "cell_type": "code",
   "execution_count": 3,
   "id": "18f4bcb9-eef7-4c01-abf8-f75782ae28f3",
   "metadata": {},
   "outputs": [
    {
     "name": "stdout",
     "output_type": "stream",
     "text": [
      "Start OOD Testing\n"
     ]
    }
   ],
   "source": [
    "result = detector(data)"
   ]
  },
  {
   "cell_type": "code",
   "execution_count": 4,
   "id": "16f43533-f7d6-4254-9ec6-849eced01ba8",
   "metadata": {},
   "outputs": [
    {
     "name": "stdout",
     "output_type": "stream",
     "text": [
      "[8 4 4 7 6 4 5 1 6 2 2 0 7 7 0 1 4 5 2 2]\n"
     ]
    }
   ],
   "source": [
    "print(label)"
   ]
  },
  {
   "cell_type": "markdown",
   "id": "286bb47c-67b9-4552-9107-c09eca05aa3b",
   "metadata": {},
   "source": [
    "##### In distribution: [0,1,6,7,8], Out of Distribution: [2,3,4,5]"
   ]
  },
  {
   "cell_type": "code",
   "execution_count": 5,
   "id": "6c5fa83f-83bc-4f86-be6f-ce9a855d3f88",
   "metadata": {},
   "outputs": [
    {
     "name": "stdout",
     "output_type": "stream",
     "text": [
      "[ True False False  True  True False False  True  True False  True  True\n",
      "  True  True  True  True False  True False False]\n"
     ]
    }
   ],
   "source": [
    "print(result)"
   ]
  },
  {
   "cell_type": "markdown",
   "id": "db0b339c-6bdb-4bca-9bd9-312cc31ef73a",
   "metadata": {},
   "source": [
    "#### Interpret the Result: if the result is False, then the data point is the outlier datapoint, otherwise in-distribution data point"
   ]
  },
  {
   "cell_type": "markdown",
   "id": "f7261a85-3b5b-41cf-ab5c-92a82bd344cb",
   "metadata": {},
   "source": [
    "Detection successful Rate: 0.90"
   ]
  },
  {
   "cell_type": "code",
   "execution_count": null,
   "id": "e7c93220-43c9-41e1-b830-c598f7e21297",
   "metadata": {},
   "outputs": [],
   "source": []
  }
 ],
 "metadata": {
  "kernelspec": {
   "display_name": "Python 3 (ipykernel)",
   "language": "python",
   "name": "python3"
  },
  "language_info": {
   "codemirror_mode": {
    "name": "ipython",
    "version": 3
   },
   "file_extension": ".py",
   "mimetype": "text/x-python",
   "name": "python",
   "nbconvert_exporter": "python",
   "pygments_lexer": "ipython3",
   "version": "3.8.10"
  }
 },
 "nbformat": 4,
 "nbformat_minor": 5
}
