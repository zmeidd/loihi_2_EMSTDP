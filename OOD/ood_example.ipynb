{
 "cells": [
  {
   "cell_type": "markdown",
   "metadata": {},
   "source": [
    "# Find the threhold for OOD detection\n",
    "<ul>\n",
    "<li><b>Change the data path to your own data, data shape:(N,64,64,3)</b></li>\n",
    "<li><b>Change the label path to your own label, label shape:(N,)</b></li>\n",
    "</ul>\n"
   ]
  },
  {
   "cell_type": "code",
   "execution_count": null,
   "metadata": {},
   "outputs": [],
   "source": [
    "from oe_disac import *\n",
    "#find the threshold score\n",
    "threshold_score = ood_detection(data_path = DATA_PATH,label_path =LABEL_PATH,num_trains =20000\n",
    "                  ,num_ood=10000, percentile = 0.8)\n",
    "print(threshold_score)\n"
   ]
  },
  {
   "cell_type": "markdown",
   "metadata": {},
   "source": [
    "<blockquote>Change the saved model path in oe_disac.py if you want to save it in another place</blockquote>"
   ]
  },
  {
   "cell_type": "code",
   "execution_count": null,
   "metadata": {},
   "outputs": [],
   "source": [
    "#load model and\n",
    "net = Net().cuda()\n",
    "net.load_state_dict(torch.load(SAVED_MODEL_PATH))\n"
   ]
  },
  {
   "cell_type": "markdown",
   "metadata": {},
   "source": [
    "** Now you can Test the OOD dataset"
   ]
  },
  {
   "cell_type": "code",
   "execution_count": null,
   "metadata": {},
   "outputs": [],
   "source": [
    "out_dis_data = np.load(\"out_dis_data.npy\")\n",
    "out_dis_label = np.load(\"out_dis_label.npy\")\n",
    "out_dataset = loihi_set([out_dis_data,out_dis_label])\n",
    "out_loader = torch.utils.data.DataLoader(out_dataset,batch_size= 64, shuffle=False)\n",
    "out_score = get_ood_scores(net,out_loader)\n",
    "\n"
   ]
  },
  {
   "cell_type": "markdown",
   "metadata": {},
   "source": [
    "Print the boolean array of the detection result outlier dataset"
   ]
  },
  {
   "cell_type": "code",
   "execution_count": null,
   "metadata": {},
   "outputs": [],
   "source": [
    "bool_arr = out_score>threshold_score\n",
    "print(bool_arr)"
   ]
  },
  {
   "cell_type": "markdown",
   "metadata": {},
   "source": [
    "Find the percentage of the detection result, since we are deteting the whole outlier set, the result should be good if it is close to 1"
   ]
  },
  {
   "cell_type": "code",
   "execution_count": null,
   "metadata": {},
   "outputs": [],
   "source": [
    "print(bool_arr.sum()/len(out_score))"
   ]
  }
 ],
 "metadata": {
  "kernelspec": {
   "display_name": "Python 3",
   "language": "python",
   "name": "python3"
  },
  "language_info": {
   "codemirror_mode": {
    "name": "ipython",
    "version": 3
   },
   "file_extension": ".py",
   "mimetype": "text/x-python",
   "name": "python",
   "nbconvert_exporter": "python",
   "pygments_lexer": "ipython3",
   "version": "3.8.10"
  }
 },
 "nbformat": 4,
 "nbformat_minor": 2
}
