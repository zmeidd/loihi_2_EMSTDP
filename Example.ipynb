{
 "cells": [
  {
   "cell_type": "code",
   "execution_count": 2,
   "id": "b1ca96ad-4f0a-4144-97d7-4f381928ae85",
   "metadata": {},
   "outputs": [],
   "source": [
    "from loihi_net import loihi2_net\n",
    "import numpy as np\n",
    "!SLURM=1 LOIHI_GEN=N3B3 PARTITION=oheogulch_2h\n",
    "\n"
   ]
  },
  {
   "cell_type": "markdown",
   "id": "22351f3e-0e21-439d-92ac-b953f6aa06bd",
   "metadata": {},
   "source": [
    "# Create a non convolutional layer network "
   ]
  },
  {
   "cell_type": "code",
   "execution_count": 3,
   "id": "031f763e-f6be-436b-8340-4fed4480cf4d",
   "metadata": {},
   "outputs": [],
   "source": [
    "net = loihi2_net([200,100,10],32,conv=False)\n"
   ]
  },
  {
   "cell_type": "markdown",
   "id": "50f362b4-d7d0-4f61-8229-31ea0edd2c98",
   "metadata": {},
   "source": [
    "### train with size (200,100,10), a 3-layer fully-conneted network"
   ]
  },
  {
   "cell_type": "markdown",
   "id": "e36493d5-9726-429a-8f7e-cf0ba068d3aa",
   "metadata": {},
   "source": [
    "Input shape: \n",
    "data: NxF, \n",
    "where N is the number of samples,F is the feature size.\n",
    "label: Nx(out_put size)\n"
   ]
  },
  {
   "cell_type": "code",
   "execution_count": 4,
   "id": "53c8b60b-6a2f-49a0-a0c1-a5f882df47a1",
   "metadata": {},
   "outputs": [
    {
     "name": "stdout",
     "output_type": "stream",
     "text": [
      "Partitioning converged after iteration=1\n",
      "Per core utilization:\n",
      "-------------------------------------------------------------------------\n",
      "| AxonIn |NeuronGr| Neurons|Synapses| AxonMap| AxonMem|  Total |  Cores |\n",
      "|-----------------------------------------------------------------------|\n",
      "|   0.06%|  12.50%|   0.24%|   0.19%|   0.06%|   0.00%|   0.30%|       1|\n",
      "|   0.06%|  12.50%|   2.44%|   2.00%|   0.62%|   0.00%|   2.66%|       1|\n",
      "|   0.69%|  12.50%|   0.24%|   3.94%|   0.06%|   0.00%|   3.81%|       1|\n",
      "|   1.88%|  12.50%|   2.44%|  84.38%|   0.62%|   0.00%|  70.00%|       1|\n",
      "|   0.00%|  12.50%|   4.88%|   0.00%|   1.25%|   0.00%|   2.00%|       1|\n",
      "|   0.00%|  12.50%|   0.24%|   0.00%|   0.06%|   0.00%|   0.10%|       1|\n",
      "|-----------------------------------------------------------------------|\n",
      "| Total                                                        |       6|\n",
      "-------------------------------------------------------------------------\n",
      "done!\n"
     ]
    }
   ],
   "source": [
    "data_train = np.load(\"x_train.npy\")\n",
    "data_label = np.load(\"y_train.npy\")\n",
    "data = data_train[:200]\n",
    "label =data_label[:200]\n",
    "dataset = [data,label]\n",
    "net.train_loihi_network(dataset)\n",
    "print(\"done!\")"
   ]
  },
  {
   "cell_type": "markdown",
   "id": "e3392ee3-25f2-4587-bb11-8216973b1dcc",
   "metadata": {},
   "source": [
    "### Testing the dataset \n",
    "The non Conv layer Representation "
   ]
  },
  {
   "cell_type": "code",
   "execution_count": 5,
   "id": "8aadd7b5-1475-4b99-b25e-19ab48257e6a",
   "metadata": {},
   "outputs": [
    {
     "name": "stdout",
     "output_type": "stream",
     "text": [
      "Partitioning converged after iteration=1\n",
      "Per core utilization:\n",
      "-------------------------------------------------------------------------\n",
      "| AxonIn |NeuronGr| Neurons|Synapses| AxonMap| AxonMem|  Total |  Cores |\n",
      "|-----------------------------------------------------------------------|\n",
      "|   0.06%|  12.50%|   0.24%|   0.19%|   0.06%|   0.00%|   0.30%|       1|\n",
      "|   0.62%|  12.50%|   0.24%|   2.50%|   0.06%|   0.00%|   2.60%|       1|\n",
      "|   1.25%|  12.50%|   2.44%|  40.00%|   0.62%|   0.00%|  34.01%|       1|\n",
      "|   0.00%|  12.50%|   4.88%|   0.00%|   1.25%|   0.00%|   2.00%|       1|\n",
      "|-----------------------------------------------------------------------|\n",
      "| Total                                                        |       4|\n",
      "-------------------------------------------------------------------------\n",
      "Testing Result: 0.94\n"
     ]
    }
   ],
   "source": [
    "new_set = [data_train[:100], data_label[:100]]\n",
    "net.test_loihi(new_set)"
   ]
  },
  {
   "cell_type": "code",
   "execution_count": null,
   "id": "a17322d9-fe96-4779-b382-9b18ed7fca22",
   "metadata": {},
   "outputs": [],
   "source": []
  }
 ],
 "metadata": {
  "kernelspec": {
   "display_name": "Python 3 (ipykernel)",
   "language": "python",
   "name": "python3"
  },
  "language_info": {
   "codemirror_mode": {
    "name": "ipython",
    "version": 3
   },
   "file_extension": ".py",
   "mimetype": "text/x-python",
   "name": "python",
   "nbconvert_exporter": "python",
   "pygments_lexer": "ipython3",
   "version": "3.8.10"
  }
 },
 "nbformat": 4,
 "nbformat_minor": 5
}
